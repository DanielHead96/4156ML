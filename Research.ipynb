{
 "cells": [
  {
   "cell_type": "markdown",
   "metadata": {},
   "source": [
    "<strong><center><h1>Analyzing Stock Options with Machine Learning</h1></center></strong>"
   ]
  },
  {
   "cell_type": "markdown",
   "metadata": {},
   "source": [
    "## **1. Introduction**"
   ]
  },
  {
   "cell_type": "markdown",
   "metadata": {},
   "source": [
    "#### For many years, traders and merchants developed and practiced techniques involving the prediction of prices for goods. These techniques were then used for predicting stock prices (Hayes, 2019). Many of these techniques are still used today. Recently, more traders have been relying on the use of algorithms for automated trading and price prediction. An advantage many have found with using algorithms is that it strips trading of personal attachment (i.e. emotions). This project in focuses more on the prediction of stock options.\n",
    "\n",
    "#### Stock options are contracts that give an individual the right to **buy** or **sell** a stock at a specific price by a specific date (Palmer, 2019). They can either be a buy or a sell contract known as a **call** and a **put**, respectively. These options allow an individual to buy or sell their option if the price of a stock reaches a certain price point. This project involves the use of historical stock option data to predict a call or a put for future option investments.\n",
    "\n",
    "#### The goal of this project is to make observations of multiple models involved with predicting stock options and compare them."
   ]
  },
  {
   "cell_type": "markdown",
   "metadata": {},
   "source": [
    "## **2. Data**"
   ]
  },
  {
   "cell_type": "markdown",
   "metadata": {},
   "source": [
    "### **A. Importing Libraries and Data**"
   ]
  },
  {
   "cell_type": "code",
   "execution_count": null,
   "metadata": {},
   "outputs": [],
   "source": [
    "from copy import deepcopy as copy\n",
    "from IPython.core.debugger import set_trace\n",
    "import numpy as np\n",
    "import pandas as pd\n",
    "from pandas.plotting import scatter_matrix\n",
    "import matplotlib.pyplot as plt\n",
    "import seaborn as sns\n",
    "import glob\n",
    "from numpy import shape\n",
    "from math import log, sqrt, exp, pi\n",
    "from scipy.stats import norm\n",
    "from mpl_toolkits.mplot3d import Axes3D\n",
    "from matplotlib import cm\n",
    "from matplotlib import animation\n",
    "\n",
    "import tensorflow as tf\n",
    "from tensorflow import keras \n",
    "from copy import deepcopy as copy\n",
    "import IPython.display as ipd "
   ]
  },
  {
   "cell_type": "markdown",
   "metadata": {},
   "source": [
    "#### There are multiple sources of data located in the **Sample_L2_2018** directory. The name of the dataset correlates to when the data was collected (i.e. **20180102** = **01/02/2018**).\n",
    "\n",
    "\n",
    "#### For the initial experiments, we will use the data for the first month. "
   ]
  },
  {
   "cell_type": "code",
   "execution_count": null,
   "metadata": {},
   "outputs": [],
   "source": [
    "options = pd.concat(map(pd.read_csv, glob.glob(\"Sample_L2_2018/L2_options_2018*.csv\")))\n",
    "options"
   ]
  },
  {
   "cell_type": "markdown",
   "metadata": {},
   "source": [
    "#### In order to help determine relevant features, we will call the <code>unique()</code> method provided by the pandas library in order to check unique values in a feature.\n",
    "\n",
    "#### In this case, the *OptionExt* feature only contains a value of *NaN*. Therefore, we can exclude it in our data."
   ]
  },
  {
   "cell_type": "code",
   "execution_count": null,
   "metadata": {},
   "outputs": [],
   "source": [
    "options['OptionExt'].unique()"
   ]
  },
  {
   "cell_type": "code",
   "execution_count": null,
   "metadata": {},
   "outputs": [],
   "source": [
    "options['Exchange'].unique()"
   ]
  },
  {
   "cell_type": "code",
   "execution_count": null,
   "metadata": {},
   "outputs": [],
   "source": [
    "options['Expiration'].unique()"
   ]
  },
  {
   "cell_type": "code",
   "execution_count": null,
   "metadata": {},
   "outputs": [],
   "source": [
    "options['OpenInterest'].unique()"
   ]
  },
  {
   "cell_type": "markdown",
   "metadata": {},
   "source": [
    "#### The *Type* feature in our data contains strings to classify the data. We will convert the data into integers by using the <code>astype()</code> method and passing *int* as an argument."
   ]
  },
  {
   "cell_type": "code",
   "execution_count": null,
   "metadata": {},
   "outputs": [],
   "source": [
    "options['Type'] = (options['Type'] != 'call').astype(int)"
   ]
  },
  {
   "cell_type": "markdown",
   "metadata": {},
   "source": [
    "#### Now we can represent the *Type* feature as integers and drop the irrelevant features from our data."
   ]
  },
  {
   "cell_type": "code",
   "execution_count": null,
   "metadata": {},
   "outputs": [],
   "source": [
    "X = options.drop(['DataDate', 'OptionExt', 'AKA', 'OptionSymbol', 'Exchange', 'UnderlyingSymbol'], axis=1).copy()"
   ]
  },
  {
   "cell_type": "code",
   "execution_count": null,
   "metadata": {},
   "outputs": [],
   "source": [
    "X"
   ]
  },
  {
   "cell_type": "markdown",
   "metadata": {},
   "source": [
    "### **B. Explanation of Features**"
   ]
  },
  {
   "cell_type": "markdown",
   "metadata": {},
   "source": [
    "&emsp; *provided by Historical Option Data: https://www.historicaloptiondata.com/content/historical-options-data-file-structures-0*\n",
    "* #### **Expiration:** This is the time it takes until the stock option expires. After the contract expires, the buyer must commit to their option (call or put).\n",
    "* #### **Strike:** The price at which an option holder can buy or sell.\n",
    "* #### **Last:** The last traded price of the option.\n",
    "* #### **Bid:** The price an option buyer is willing to pay for the contract.\n",
    "* #### **Ask:** The price an option seller is willing to sell for the contract.\n",
    "* #### **Volume:** The number of contracts traded.\n",
    "* #### **OpenInterest:** Always a day behind - the number of options that are held by traders and investors in active positions.\n",
    "* #### **Implied Volatility(IV):** A measure of the estimate of how much the price could change. It relates to how likely the traders believe the option can make a change.\n",
    "* #### **Delta:** A measure of how much the option price would change in relation to the underlying stock price. Delta = .50 -> option changes 50 cents for every 1 dollar the stock moves.\n",
    "* #### **Gamma:** A measure of how fast the Delta will change when the stock price changes. A high number means this is a very explosive option and can gain or lose value quickly.\n",
    "* #### **Theta:** A measure of how fast the option is losing value per day due to time decay. As the expiration day arrives, the theta increases.\n",
    "* #### **Vega:** A meaasure of how sensitive the option price is to a change in the implied volatility. Options that have a long time until expiration are more sensitive to change in IV."
   ]
  },
  {
   "cell_type": "markdown",
   "metadata": {},
   "source": [
    "### **C. Preprocessing the Data**"
   ]
  },
  {
   "cell_type": "markdown",
   "metadata": {},
   "source": [
    "#### Here, we converted the date into the days until expiration with the <code>to_datetime()</code> method."
   ]
  },
  {
   "cell_type": "code",
   "execution_count": null,
   "metadata": {},
   "outputs": [],
   "source": [
    "X['Expiration'] = pd.to_datetime(X['Expiration']).sub(pd.Timestamp('01/02/2018')).dt.days\n",
    "X"
   ]
  },
  {
   "cell_type": "markdown",
   "metadata": {},
   "source": [
    "#### In order to stay consistent with the other features, we must convert the time until expiration into units of years."
   ]
  },
  {
   "cell_type": "code",
   "execution_count": null,
   "metadata": {},
   "outputs": [],
   "source": [
    "X['Expiration'] = X['Expiration'].apply(lambda x: x / 365)\n",
    "X"
   ]
  },
  {
   "cell_type": "markdown",
   "metadata": {},
   "source": [
    "## **3. The Black-Scholes Model**"
   ]
  },
  {
   "cell_type": "markdown",
   "metadata": {},
   "source": [
    "#### The Black-Scholes Model, or Black-Scholes-Merton (BSM) Model, is one of the most well-known models used in finance. The model implies that the most relevant features of pricing a stock option depends on:\n",
    "#### &emsp;&emsp;$S$: Stock Price\n",
    "#### &emsp;&emsp;$X$: Exercise Price\n",
    "#### &emsp;&emsp;$r$: Risk-Free Interest Rate\n",
    "#### &emsp;&emsp;$T$: Time until Expiration\n",
    "#### &emsp;&emsp;$\\theta$: Standard Deviation of *log* returns (volatility)<br><br>"
   ]
  },
  {
   "cell_type": "markdown",
   "metadata": {},
   "source": [
    "<center><h4>The BSM involves a mathematical formula that determines a fair price for stock options.</h4></center><br>\n",
    "\n",
    "<center><h4>$C_0$ $=$ $S_0N(d_1) - Xe^{(-rt)}N(d_2)$</h4></center><br>\n",
    "\n",
    "<center><h4>where</h4></center><br>\n",
    "\n",
    "<center><h4>$d_1 = \\frac{ln\\frac{S_t}{X}+(r+\\frac{\\theta^2}{2}T}{\\theta\\sqrt{T}}$, $d_2 = \\frac{ln\\frac{S_t}{X}+(r-\\frac{\\theta^2}{2}T}{\\theta\\sqrt{T}}$</h4></center><br>\n",
    "\n",
    "<center><h4>$N(X)$ gives us the probability where our random variable will be less than or equal to $X$.</h4></center><br>\n",
    "\n",
    "<center><h4>$0 < N(X) < 1$</h4></center><br>\n",
    "\n",
    "<center><h4>The price of the stock, $S_0$, is weighted by the probability $N(X)$:</h4></center><br>\n",
    "\n",
    "<center><h4>$S_0N(d_1)$</h4></center><br>\n",
    "\n",
    "<center><h4>The amount you would pay is determined by multiplying $X$ and $e$ raised to $(-rt)$, then weighted by $N(X)$:</h4></center><br>\n",
    "\n",
    "<center><h4>$Xe^{(-rt)}N(d_2)$</h4></center>"
   ]
  },
  {
   "cell_type": "markdown",
   "metadata": {},
   "source": [
    "### **A. Implementation**"
   ]
  },
  {
   "cell_type": "markdown",
   "metadata": {},
   "source": [
    "#### This implementation of the BSM was provided by QuantConnect."
   ]
  },
  {
   "cell_type": "code",
   "execution_count": null,
   "metadata": {},
   "outputs": [],
   "source": [
    "class BsmModel:\n",
    "    \n",
    "    def __init__(self, option_type, price, strike, interest_rate, expiry, volatility, dividend_yield=0):\n",
    "        self.type = option_type # 0 for call, 1 for put\n",
    "        self.s = price # underlying asset price\n",
    "        self.k = strike # strike price of option\n",
    "        self.r = interest_rate # risk-free interest rate\n",
    "        self.T = expiry # time till expiration in years\n",
    "        self.sigma = volatility # standard deviation of log returns\n",
    "        self.q = dividend_yield # dividend continuous rate\n",
    "        \n",
    "    def n(self, d):\n",
    "        # cumulative probabilty distribution function of standard normal distribution; N(X)\n",
    "        return norm.cdf(d)\n",
    "    \n",
    "    def dn(self, d):\n",
    "        # first order derivative of n(d)\n",
    "        return norm.pdf(d)\n",
    "    \n",
    "    def d1(self):\n",
    "        d1 = (log(self.s / self.k) + (self.r - self.q + self.sigma ** 2 * 0.5) * self.T) / (self.sigma * sqrt(self.T))\n",
    "        return d1\n",
    "    \n",
    "    def d2(self):\n",
    "        d2 = (log(self.s / self.k) + (self.r - self.q - self.sigma ** 2 * 0.5) * self.T) / (self.sigma * sqrt(self.T))\n",
    "        return d2\n",
    "    \n",
    "    def bsm_price(self):\n",
    "        d1 = self.d1()\n",
    "        d2 = d1 - self.sigma * sqrt(self.T)\n",
    "        if self.type == 0:\n",
    "            price = exp(-self.r*self.T) * (self.s * exp((self.r - self.q)*self.T) * self.n(d1) - self.k * self.n(d2))\n",
    "            return price\n",
    "        elif self.type == 1:\n",
    "            price = exp(-self.r*self.T) * (self.k * self.n(-d2) - (self.s * exp((self.r - self.q)*self.T) * self.n(-d1)))\n",
    "            return price\n",
    "        else:\n",
    "            print(\"option either 0 (call) or 1 (put)\")"
   ]
  },
  {
   "cell_type": "code",
   "execution_count": null,
   "metadata": {},
   "outputs": [],
   "source": [
    "bsmX = X[['Type', 'UnderlyingPrice', 'Strike', 'Expiration', 'IV']]\n",
    "bsmX"
   ]
  },
  {
   "cell_type": "code",
   "execution_count": null,
   "metadata": {},
   "outputs": [],
   "source": [
    "bsmX['BSM'] = bsmX.apply(lambda x: BsmModel(x[\"Type\"], x[\"UnderlyingPrice\"], x[\"Strike\"], 0.1, x[\"Expiration\"], x[\"IV\"]).bsm_price(), axis=1)"
   ]
  },
  {
   "cell_type": "code",
   "execution_count": null,
   "metadata": {},
   "outputs": [],
   "source": [
    "bsmX"
   ]
  },
  {
   "cell_type": "markdown",
   "metadata": {},
   "source": [
    "## **4. The Greek Letters**"
   ]
  },
  {
   "cell_type": "markdown",
   "metadata": {},
   "source": [
    "#### In our dataset, there are 4 greek letters that were provided: *Delta, Gamma, Theta*, and *Vega*. Each greek letter is a parameter that is used to measure different dimensions in options.\n",
    "* #### Delta: The measure of how much the option price would change in relation to the underlying stock price.\n",
    "* #### Gamma: The measure of how fast the Delta will change when the stock prices change.\n",
    "* #### Theta: The measure of how fast the option is losing value per day due to time decay.\n",
    "* #### Vega: The measure of how sensitive the option price is to a change in the implied volatility.\n",
    "* #### Rho: The measure of how sensitive the option price is to a change in interest rate.\n",
    "\n",
    "#### These values are typically calculated on a daily basis. Once the values for these letters have been determined, traders would apply them to the BSM model to asses option prices."
   ]
  },
  {
   "cell_type": "markdown",
   "metadata": {},
   "source": [
    "### **A. Implementation**"
   ]
  },
  {
   "cell_type": "markdown",
   "metadata": {},
   "source": [
    "#### Since our dataset has already provided the values for the greeks (*Delta, Gamma, Theta, and Vega*), we will use them to assess the BSM model created in the previous section."
   ]
  },
  {
   "cell_type": "code",
   "execution_count": null,
   "metadata": {},
   "outputs": [],
   "source": [
    "delta = X[['Delta']].to_numpy()\n",
    "gamma = X[['Gamma']].to_numpy()\n",
    "theta = X[['Theta']].to_numpy()\n",
    "vega = X[['Vega']].to_numpy()"
   ]
  },
  {
   "cell_type": "code",
   "execution_count": null,
   "metadata": {},
   "outputs": [],
   "source": [
    "price = bsmX.iloc[:, 1].to_numpy()\n",
    "time = bsmX.iloc[:, 3].to_numpy()"
   ]
  },
  {
   "cell_type": "code",
   "execution_count": null,
   "metadata": {},
   "outputs": [],
   "source": [
    "fig = plt.figure(figsize=(20,11))\n",
    "ax = plt.axes(projection='3d')\n",
    "ax.set_xlabel('Stock Price')\n",
    "ax.set_ylabel('Time to Expiration')\n",
    "ax.set_zlabel('Gamma')\n",
    "ax.scatter(price, time, gamma, color='r')\n",
    "plt.show()"
   ]
  },
  {
   "cell_type": "code",
   "execution_count": null,
   "metadata": {},
   "outputs": [],
   "source": []
  }
 ],
 "metadata": {
  "kernelspec": {
   "display_name": "Python 3",
   "language": "python",
   "name": "python3"
  },
  "language_info": {
   "codemirror_mode": {
    "name": "ipython",
    "version": 3
   },
   "file_extension": ".py",
   "mimetype": "text/x-python",
   "name": "python",
   "nbconvert_exporter": "python",
   "pygments_lexer": "ipython3",
   "version": "3.7.6"
  }
 },
 "nbformat": 4,
 "nbformat_minor": 4
}
